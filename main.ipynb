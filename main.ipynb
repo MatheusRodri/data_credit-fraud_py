{
 "cells": [
  {
   "cell_type": "code",
   "execution_count": 0,
   "metadata": {
    "application/vnd.databricks.v1+cell": {
     "cellMetadata": {
      "byteLimit": 2048000,
      "rowLimit": 10000
     },
     "inputWidgets": {},
     "nuid": "85dbf20a-0d8c-45a6-89ff-0c9841720a2f",
     "showTitle": false,
     "tableResultSettingsMap": {},
     "title": ""
    }
   },
   "outputs": [],
   "source": [
    "# Instala bibliotecas necessárias\n",
    "%pip install imbalanced-learn"
   ]
  },
  {
   "cell_type": "code",
   "execution_count": 0,
   "metadata": {
    "application/vnd.databricks.v1+cell": {
     "cellMetadata": {
      "byteLimit": 2048000,
      "rowLimit": 10000
     },
     "inputWidgets": {},
     "nuid": "5a86187f-4260-40ef-aade-a1fed400559c",
     "showTitle": false,
     "tableResultSettingsMap": {},
     "title": ""
    }
   },
   "outputs": [],
   "source": [
    "# Importe de bibliotecas\n",
    "import pandas as pd\n",
    "from collections import Counter\n",
    "from imblearn.over_sampling import SMOTE\n",
    "from sklearn.model_selection import train_test_split\n",
    "from sklearn.ensemble import RandomForestClassifier\n",
    "from sklearn.metrics import confusion_matrix, classification_report"
   ]
  },
  {
   "cell_type": "code",
   "execution_count": 0,
   "metadata": {
    "application/vnd.databricks.v1+cell": {
     "cellMetadata": {
      "byteLimit": 2048000,
      "rowLimit": 10000
     },
     "inputWidgets": {},
     "nuid": "78e65020-7d06-4d21-b07a-422e237e1adf",
     "showTitle": false,
     "tableResultSettingsMap": {},
     "title": ""
    }
   },
   "outputs": [],
   "source": [
    "# Carrega os dados\n",
    "df_01 = pd.read_csv(\"data/credit_card_parte1.csv\", sep=\";\")\n",
    "df_02 = pd.read_csv(\"data/credit_card_parte2.csv\", sep=\";\")\n",
    "\n",
    "# Unifica os dois DataFrames\n",
    "df_full = pd.concat([df_01, df_02], axis=0)\n",
    "# print(df_01.shape[0])\n",
    "# print(df_02.shape[0])\n",
    "# print(df_full.shape[0])"
   ]
  },
  {
   "cell_type": "code",
   "execution_count": 0,
   "metadata": {
    "application/vnd.databricks.v1+cell": {
     "cellMetadata": {
      "byteLimit": 2048000,
      "rowLimit": 10000
     },
     "inputWidgets": {},
     "nuid": "88627bcc-2a2c-4849-84c8-1c8f7fba753e",
     "showTitle": false,
     "tableResultSettingsMap": {
      "0": {
       "dataGridStateBlob": "{\"version\":1,\"tableState\":{\"columnPinning\":{\"left\":[\"#row_number#\"],\"right\":[]},\"columnSizing\":{},\"columnVisibility\":{}},\"settings\":{\"columns\":{}},\"syncTimestamp\":1759966164061}",
       "filterBlob": "{\"version\":1,\"filterGroups\":[],\"syncTimestamp\":1759968189916}",
       "queryPlanFiltersBlob": "[]",
       "tableResultIndex": 0
      }
     },
     "title": ""
    }
   },
   "outputs": [],
   "source": [
    "display(df_full)"
   ]
  },
  {
   "cell_type": "code",
   "execution_count": 0,
   "metadata": {
    "application/vnd.databricks.v1+cell": {
     "cellMetadata": {
      "byteLimit": 2048000,
      "rowLimit": 10000
     },
     "inputWidgets": {},
     "nuid": "003b8a43-bb39-4641-915e-4cda4e7c90c5",
     "showTitle": false,
     "tableResultSettingsMap": {},
     "title": ""
    }
   },
   "outputs": [],
   "source": [
    "# Convert columns V1 - V28 to float64, replacing comma with dot\n",
    "for i in range(1, 29):\n",
    "    col = 'V' + str(i)\n",
    "    df_full[col] = df_full[col].str.replace(',', '.').astype('float64')"
   ]
  },
  {
   "cell_type": "code",
   "execution_count": 0,
   "metadata": {
    "application/vnd.databricks.v1+cell": {
     "cellMetadata": {
      "byteLimit": 2048000,
      "rowLimit": 10000
     },
     "inputWidgets": {},
     "nuid": "af91ff91-e258-451b-8eb2-e65a877ab951",
     "showTitle": false,
     "tableResultSettingsMap": {
      "0": {
       "dataGridStateBlob": "{\"version\":1,\"tableState\":{\"columnPinning\":{\"left\":[\"#row_number#\"],\"right\":[]},\"columnSizing\":{},\"columnVisibility\":{}},\"settings\":{\"columns\":{}},\"syncTimestamp\":1759695567787}",
       "filterBlob": null,
       "queryPlanFiltersBlob": null,
       "tableResultIndex": 0
      }
     },
     "title": ""
    }
   },
   "outputs": [],
   "source": [
    "display(df_full)"
   ]
  },
  {
   "cell_type": "code",
   "execution_count": 0,
   "metadata": {
    "application/vnd.databricks.v1+cell": {
     "cellMetadata": {
      "byteLimit": 2048000,
      "rowLimit": 10000
     },
     "inputWidgets": {},
     "nuid": "f4caa92d-49bb-4170-a529-40632443823b",
     "showTitle": false,
     "tableResultSettingsMap": {},
     "title": ""
    }
   },
   "outputs": [],
   "source": [
    "\n",
    "X = df_full.drop('Class', axis=1)\n",
    "y = df_full['Class']\n",
    "\n",
    "\n",
    "X_treino, X_teste, y_treino, y_teste = train_test_split(\n",
    "    X, y, test_size=0.3, random_state=42, stratify=y\n",
    ")   \n",
    "\n",
    "print(f\"Distribuição original no Treino: {Counter(y_treino)}\")\n",
    "\n",
    "\n",
    "smote = SMOTE(random_state=42)\n",
    "\n",
    "\n",
    "X_balanceado, y_balanceado = smote.fit_resample(X_treino, y_treino)\n",
    "\n",
    "print(f\"\\nDistribuição balanceada no Treino (após SMOTE): {Counter(y_balanceado)}\")\n"
   ]
  },
  {
   "cell_type": "code",
   "execution_count": 0,
   "metadata": {
    "application/vnd.databricks.v1+cell": {
     "cellMetadata": {
      "byteLimit": 2048000,
      "rowLimit": 10000
     },
     "inputWidgets": {},
     "nuid": "a957a755-cfe6-4fe9-ae22-44790743f575",
     "showTitle": false,
     "tableResultSettingsMap": {},
     "title": ""
    }
   },
   "outputs": [],
   "source": [
    "\n",
    "\n",
    "modelo_rf = RandomForestClassifier(n_estimators=100, random_state=42, class_weight='balanced')\n",
    "\n",
    "print(\"\\nIniciando Treinamento do Random Forest...\")\n",
    "\n",
    "modelo_rf.fit(X_balanceado, y_balanceado)\n",
    "print(\"Treinamento concluído!\")\n",
    "\n",
    "\n",
    "y_pred = modelo_rf.predict(X_teste)\n",
    "\n",
    "print(\"\\n--- Matriz de Confusão (Dados de Teste Reais) ---\")\n",
    "\n",
    "print(confusion_matrix(y_teste, y_pred))\n",
    "\n",
    "print(\"\\n--- Relatório de Classificação ---\")\n",
    "\n",
    "print(classification_report(y_teste, y_pred))\n"
   ]
  }
 ],
 "metadata": {
  "application/vnd.databricks.v1+notebook": {
   "computePreferences": null,
   "dashboards": [],
   "environmentMetadata": {
    "base_environment": "",
    "environment_version": "3"
   },
   "inputWidgetPreferences": null,
   "language": "python",
   "notebookMetadata": {
    "pythonIndentUnit": 4
   },
   "notebookName": "main",
   "widgets": {}
  },
  "language_info": {
   "name": "python"
  }
 },
 "nbformat": 4,
 "nbformat_minor": 0
}
